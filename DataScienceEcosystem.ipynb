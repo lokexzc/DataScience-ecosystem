{
  "metadata": {
    "kernelspec": {
      "name": "python",
      "display_name": "Python (Pyodide)",
      "language": "python"
    },
    "language_info": {
      "codemirror_mode": {
        "name": "python",
        "version": 3
      },
      "file_extension": ".py",
      "mimetype": "text/x-python",
      "name": "python",
      "nbconvert_exporter": "python",
      "pygments_lexer": "ipython3",
      "version": "3.8"
    }
  },
  "nbformat_minor": 4,
  "nbformat": 4,
  "cells": [
    {
      "cell_type": "markdown",
      "source": "# Data Science Tools and Ecosystem",
      "metadata": {}
    },
    {
      "cell_type": "markdown",
      "source": "in this notebook, Data Science Tools and Ecosystem are Summarized",
      "metadata": {}
    },
    {
      "cell_type": "markdown",
      "source": "Some of the populer languages that data sciencetist use are:\n1. python\n2. R\n3. SQL\n4. C++\n5. Java etc..",
      "metadata": {}
    },
    {
      "cell_type": "markdown",
      "source": "some of the commonly libraries used by the data sciencetist\n1. tensorflow\n2. Numpy\n3. SciPy\n4. Matplotlib\n5. keras\n6. Scikit-Learn\n7. Pytorch etc..",
      "metadata": {}
    },
    {
      "cell_type": "markdown",
      "source": "|Data science tools |\n|--|\n|SAS|\n|Apache Hadoop|\n|tensorFlow|",
      "metadata": {}
    },
    {
      "cell_type": "markdown",
      "source": "### evaluating arithmetic expressions",
      "metadata": {}
    },
    {
      "cell_type": "code",
      "source": "# multiply expression\n(3*2)-5",
      "metadata": {
        "trusted": true
      },
      "outputs": [
        {
          "execution_count": 4,
          "output_type": "execute_result",
          "data": {
            "text/plain": "1"
          },
          "metadata": {}
        }
      ],
      "execution_count": 4
    },
    {
      "cell_type": "code",
      "source": "# convert 150 minutes to hours \n150/60",
      "metadata": {
        "trusted": true
      },
      "outputs": [
        {
          "execution_count": 5,
          "output_type": "execute_result",
          "data": {
            "text/plain": "2.5"
          },
          "metadata": {}
        }
      ],
      "execution_count": 5
    },
    {
      "cell_type": "markdown",
      "source": "__Objective__\n* list popular languages for data science\n* list popular libraries for data science\n* list well known data science tools\n* how to provide a comment in the cell\n  ",
      "metadata": {}
    },
    {
      "cell_type": "markdown",
      "source": "## author\nkhalid almutairi",
      "metadata": {}
    },
    {
      "cell_type": "code",
      "source": "",
      "metadata": {
        "trusted": true
      },
      "outputs": [],
      "execution_count": null
    }
  ]
}